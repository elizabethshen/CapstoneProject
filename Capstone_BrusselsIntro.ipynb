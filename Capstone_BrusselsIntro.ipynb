{
 "cells": [
  {
   "cell_type": "code",
   "execution_count": 9,
   "metadata": {},
   "outputs": [],
   "source": [
    "# This is the introducation for the capstone project"
   ]
  },
  {
   "cell_type": "markdown",
   "metadata": {},
   "source": [
    "<h1> The Best Neighborhoods for Expats to Live in Brussels</h1>"
   ]
  },
  {
   "attachments": {},
   "cell_type": "markdown",
   "metadata": {},
   "source": [
    "<h2> Part 1: Introduction/Business</h2>"
   ]
  },
  {
   "cell_type": "markdown",
   "metadata": {},
   "source": [
    "<h3>1.1\tBackground</h3>"
   ]
  },
  {
   "attachments": {},
   "cell_type": "markdown",
   "metadata": {},
   "source": [
    "Brussels is officially the Brussels-Capital Region, which comprising 19 municipalities, including the City of Brussels, which is the capital of Belgium.The Brussels-Capital Region is located in the central portion of the country and is a part of both the French Community of Belgium and the Flemish Community.\n",
    "\n",
    "Brussels is the most densely populated and the richest region in Belgium in terms of GDP per capita. It covers 162 km2 (63 sq mi), a relatively small area compared to the two other regions, and has a population of over 1.2 million.\n",
    "\n",
    "There is a big demand for the international people, especially the expats, to find a cozy nice neighborhood to live in this big city."
   ]
  },
  {
   "cell_type": "markdown",
   "metadata": {},
   "source": [
    "<h3>1.2 Business Problem </h3>"
   ]
  },
  {
   "cell_type": "markdown",
   "metadata": {},
   "source": [
    "Brussels has the name as the capital of the Europe, a very busy cities have attracted many international people and specially, expats to stay, mostly either for job reason or academic reason.\n",
    " \n",
    "Those expats are from different cities and have strong requests to find a cozy comfortable, and affordable neighborhood to stay in Brussels.\n"
   ]
  },
  {
   "cell_type": "markdown",
   "metadata": {},
   "source": [
    "<h3>1.3\tInterests/ Target Audience</h3>"
   ]
  },
  {
   "cell_type": "markdown",
   "metadata": {},
   "source": [
    "International People in Brussels, especially the expats. Of course, The local people also interested in searching a cozy neighborhood for themselves in Brussels."
   ]
  },
  {
   "cell_type": "markdown",
   "metadata": {},
   "source": [
    "<h2>Part 2: Data</h2>"
   ]
  },
  {
   "cell_type": "markdown",
   "metadata": {},
   "source": [
    "<h3>2.1\tBackground part/Municipalities/Postal code Data:</h3>"
   ]
  },
  {
   "cell_type": "markdown",
   "metadata": {},
   "source": [
    "<em><strong>Purposes:</strong></em> Where I found useful data to understand and explore Brussels, as the capital of Belgium, has 19 municipalities, and the population, size, postal code of Brussls etc. "
   ]
  },
  {
   "cell_type": "markdown",
   "metadata": {},
   "source": [
    "<em><strong>Data Sources:</strong></em>\n",
    "Wiki [1][2] and \n",
    "postal-codes.cybo.com [3]"
   ]
  },
  {
   "cell_type": "markdown",
   "metadata": {},
   "source": [
    "<h3>2.2\tJson Files: </h3>"
   ]
  },
  {
   "attachments": {},
   "cell_type": "markdown",
   "metadata": {},
   "source": [
    "<em><strong>Purposes:</strong></em> Where i used to get the administrative divisions of Belgium. Level 2 divisions include capital regions and provinces. Level 3 divisions include arrondissements."
   ]
  },
  {
   "cell_type": "markdown",
   "metadata": {},
   "source": [
    "<em><strong>Data Sources:</strong></em>\n",
    "Second-level Administrative Divisions, Belgium, 2015, from Spatial Data Repository of NYU [4]\n",
    "Third-level Administrative Divisions, Belgium, 2015 from Spatial Data Repository of NYU [5]\n"
   ]
  },
  {
   "cell_type": "markdown",
   "metadata": {},
   "source": [
    "<h3>2.3\tFourSquare API: </h3>"
   ]
  },
  {
   "attachments": {},
   "cell_type": "markdown",
   "metadata": {},
   "source": [
    "<em><strong>Purposes:</strong></em> To explore the neighborhood of Brussels. To compare,segment and cluster the neighborhood, and to find some nice Neighborhoods' recommendations which may satisfy the international people’s demands."
   ]
  },
  {
   "cell_type": "markdown",
   "metadata": {},
   "source": [
    "<em><strong>Data Sources:</strong></em> FourSquare API [6]"
   ]
  },
  {
   "cell_type": "markdown",
   "metadata": {},
   "source": [
    "<h3>2.4\tOther Sources:</h3>"
   ]
  },
  {
   "attachments": {},
   "cell_type": "markdown",
   "metadata": {},
   "source": [
    "<em><strong>Purposes:</strong></em> To explore Brussels house price and to analysis where are the neighborhoods for the value returns."
   ]
  },
  {
   "attachments": {},
   "cell_type": "markdown",
   "metadata": {},
   "source": [
    "<em><strong>Data Sources:</strong></em> The Cost of Housing in Brussels, from KBCBrussles [7]\n",
    "Expats: Where should you live in Brussels? [8]"
   ]
  },
  {
   "cell_type": "markdown",
   "metadata": {},
   "source": [
    "<h3>Reference: </h3>"
   ]
  },
  {
   "cell_type": "markdown",
   "metadata": {},
   "source": [
    "[1] https://en.wikipedia.org/wiki/Brussels <br>\n",
    "[2] https://en.wikipedia.org/wiki/List_of_municipalities_of_the_Brussels-Capital_Region<br>\n",
    "[3] https://postal-codes.cybo.com/belgium/brussels/#listcodes<br>\n",
    "[4] https://geo.nyu.edu/catalog/stanford-jp810pg7549<br>\n",
    "[5] https://geo.nyu.edu/catalog/stanford-qh369vj5713<br>\n",
    "[6] https://foursquare.com/<br>\n",
    "[7] https://www.kbcbrussels.be/retail/en/home/the-cost-of-housing-in-brussels.html<br>\n",
    "[8] https://www.kbcbrussels.be/retail/en/expats/prepare-for-your-arrival-in-the-capital/where-should-you-live-in-brussels.html\n"
   ]
  },
  {
   "cell_type": "code",
   "execution_count": null,
   "metadata": {},
   "outputs": [],
   "source": []
  }
 ],
 "metadata": {
  "kernelspec": {
   "display_name": "Python 3",
   "language": "python",
   "name": "python3"
  },
  "language_info": {
   "codemirror_mode": {
    "name": "ipython",
    "version": 3
   },
   "file_extension": ".py",
   "mimetype": "text/x-python",
   "name": "python",
   "nbconvert_exporter": "python",
   "pygments_lexer": "ipython3",
   "version": "3.7.6"
  }
 },
 "nbformat": 4,
 "nbformat_minor": 4
}
