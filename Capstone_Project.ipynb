{
    "cells": [
        {
            "cell_type": "markdown",
            "metadata": {},
            "source": "<h1> Applied Data Science Capstone Project </h1><br>\n<h5>IBM Data Science Professional Certificate</h5><br>\n______________________________________________\n"
        },
        {
            "cell_type": "markdown",
            "metadata": {
                "collapsed": true
            },
            "source": "<em>This notebook will be used mainly for the final capstone project of the IBM Data Sciene Course</em> <br><br>\n<img src=\"https://coursera-profile-photos.s3.amazonaws.com/e0/8b430dab944aa38259ddec85babbf1/IMG_20200506_094416.jpg\" style=\"float:left\" width=60 higth=60><br>\n\nBy Elizabeth Shen"
        },
        {
            "cell_type": "code",
            "execution_count": 1,
            "metadata": {},
            "outputs": [],
            "source": "import pandas as pd\nimport numpy as np"
        },
        {
            "cell_type": "code",
            "execution_count": 5,
            "metadata": {},
            "outputs": [
                {
                    "name": "stdout",
                    "output_type": "stream",
                    "text": "Hello Capstion Project Course!\n"
                }
            ],
            "source": "print(\"Hello Capstion Project Course!\")"
        }
    ],
    "metadata": {
        "kernelspec": {
            "display_name": "Python 3.7",
            "language": "python",
            "name": "python3"
        },
        "language_info": {
            "codemirror_mode": {
                "name": "ipython",
                "version": 3
            },
            "file_extension": ".py",
            "mimetype": "text/x-python",
            "name": "python",
            "nbconvert_exporter": "python",
            "pygments_lexer": "ipython3",
            "version": "3.7.9"
        }
    },
    "nbformat": 4,
    "nbformat_minor": 1
}